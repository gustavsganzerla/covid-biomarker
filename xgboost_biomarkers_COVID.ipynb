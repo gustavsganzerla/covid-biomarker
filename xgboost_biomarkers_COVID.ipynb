{
  "nbformat": 4,
  "nbformat_minor": 0,
  "metadata": {
    "colab": {
      "provenance": []
    },
    "kernelspec": {
      "name": "python3",
      "display_name": "Python 3"
    },
    "language_info": {
      "name": "python"
    }
  },
  "cells": [
    {
      "cell_type": "code",
      "execution_count": 41,
      "metadata": {
        "id": "WKVK1wGHtNwL"
      },
      "outputs": [],
      "source": [
        "import pandas as pd \n",
        "import xgboost as xgb"
      ]
    },
    {
      "cell_type": "code",
      "source": [
        "data = pd.read_csv(\"/content/drive/MyDrive/Postdoctoral research/cleveland/cleveland_pca_1.csv\")\n",
        "data.columns = data.columns.map(lambda row: \"_\".join(row.lower().split(\" \")))"
      ],
      "metadata": {
        "id": "eC7w5F7huetb"
      },
      "execution_count": 42,
      "outputs": []
    },
    {
      "cell_type": "code",
      "source": [
        "data2 = pd.read_csv(\"/content/drive/MyDrive/Postdoctoral research/cleveland/irish_pca_all.csv\")\n",
        "data2.columns = data2.columns.map(lambda row: \"_\".join(row.lower().split(\" \")))"
      ],
      "metadata": {
        "id": "F1Isx_XJyHkQ"
      },
      "execution_count": 69,
      "outputs": []
    },
    {
      "cell_type": "code",
      "source": [
        "X2 = data2.drop('outcome', axis=1)\n",
        "y2 = data2['outcome']"
      ],
      "metadata": {
        "id": "tT2bNY6JytYA"
      },
      "execution_count": 70,
      "outputs": []
    },
    {
      "cell_type": "code",
      "source": [
        "data2_dmatrix = xgb.DMatrix(data=X2,label=y2)"
      ],
      "metadata": {
        "id": "8Wkj86mVyv3p"
      },
      "execution_count": 71,
      "outputs": []
    },
    {
      "cell_type": "code",
      "source": [
        "X2"
      ],
      "metadata": {
        "id": "KCr4SxlJy22Y"
      },
      "execution_count": null,
      "outputs": []
    },
    {
      "cell_type": "code",
      "source": [
        "from patsy import dmatrices\n",
        "\n",
        "y2, X2 = dmatrices(\n",
        "    \"outcome~\ticam+\tvcam+\tgcsf+\tcxcl10+\ttnfa\",\n",
        "    data=data2,\n",
        ")\n",
        "\n",
        "X_frame2 = pd.DataFrame(data=X2, columns=X2.design_info.column_names)"
      ],
      "metadata": {
        "id": "oteC4ZW1x4yQ"
      },
      "execution_count": 73,
      "outputs": []
    },
    {
      "cell_type": "code",
      "source": [
        "X = data.drop('clinocal_outcome', axis=1)\n",
        "\n",
        "y = data['clinocal_outcome']"
      ],
      "metadata": {
        "id": "YVJQg8cMujrY"
      },
      "execution_count": 44,
      "outputs": []
    },
    {
      "cell_type": "code",
      "source": [],
      "metadata": {
        "id": "91Dy_ilbwJwB"
      },
      "execution_count": null,
      "outputs": []
    },
    {
      "cell_type": "code",
      "source": [
        "data_dmatrix = xgb.DMatrix(data=X,label=y)"
      ],
      "metadata": {
        "id": "KMDg2g-tuz3d"
      },
      "execution_count": 32,
      "outputs": []
    },
    {
      "cell_type": "code",
      "source": [
        "from patsy import dmatrices\n",
        "\n",
        "y, X = dmatrices(\n",
        "    \"clinocal_outcome~icam1 +\tvcam1\t + gcsf + cxcl10 + tnfa\",\n",
        "    data=data,\n",
        ")\n",
        "\n",
        "X_frame = pd.DataFrame(data=X, columns=X.design_info.column_names)"
      ],
      "metadata": {
        "id": "XYr4jRkIu6To"
      },
      "execution_count": 46,
      "outputs": []
    },
    {
      "cell_type": "code",
      "source": [
        "from sklearn.model_selection import train_test_split\n",
        "\n",
        "X_train, X_test, y_train, y_test = train_test_split(X2, y2, test_size = 0.3, random_state = 0)"
      ],
      "metadata": {
        "id": "vmV9jJ4xu_8m"
      },
      "execution_count": 74,
      "outputs": []
    },
    {
      "cell_type": "code",
      "source": [
        "# import XGBClassifier\n",
        "from xgboost import XGBClassifier\n",
        "\n",
        "\n",
        "# declare parameters\n",
        "params = {\n",
        "            'objective':'binary:logistic',\n",
        "            'max_depth': 4,\n",
        "            'alpha': 10,\n",
        "            'learning_rate': 1.0,\n",
        "            'n_estimators':100\n",
        "        }         \n",
        "           \n",
        "          \n",
        "# instantiate the classifier \n",
        "xgb_clf = XGBClassifier(**params)\n",
        "\n",
        "\n",
        "# fit the classifier to the training data\n",
        "xgb_clf.fit(X_train, y_train)"
      ],
      "metadata": {
        "id": "EaocBiy_xptW"
      },
      "execution_count": null,
      "outputs": []
    },
    {
      "cell_type": "code",
      "source": [
        "y_pred = xgb_clf.predict(X_test)"
      ],
      "metadata": {
        "id": "gQaHgoXqxssM"
      },
      "execution_count": 76,
      "outputs": []
    },
    {
      "cell_type": "code",
      "source": [
        "from sklearn.metrics import accuracy_score\n",
        "\n",
        "print('XGBoost model accuracy score: {0:0.4f}'. format(accuracy_score(y_test, y_pred)))"
      ],
      "metadata": {
        "colab": {
          "base_uri": "https://localhost:8080/"
        },
        "id": "Ghvdufs8xu-7",
        "outputId": "62cb6e53-4903-4e19-921d-ef510c406561"
      },
      "execution_count": 77,
      "outputs": [
        {
          "output_type": "stream",
          "name": "stdout",
          "text": [
            "XGBoost model accuracy score: 0.4667\n"
          ]
        }
      ]
    }
  ]
}